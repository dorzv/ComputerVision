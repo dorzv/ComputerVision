{
  "nbformat": 4,
  "nbformat_minor": 0,
  "metadata": {
    "colab": {
      "provenance": [],
      "gpuType": "T4",
      "authorship_tag": "ABX9TyNSgbVMySyzR03ccvRCD/s6",
      "include_colab_link": true
    },
    "kernelspec": {
      "name": "python3",
      "display_name": "Python 3"
    },
    "language_info": {
      "name": "python"
    },
    "accelerator": "GPU"
  },
  "cells": [
    {
      "cell_type": "markdown",
      "metadata": {
        "id": "view-in-github",
        "colab_type": "text"
      },
      "source": [
        "<a href=\"https://colab.research.google.com/github/dorzv/ComputerVision/blob/master/knowledge_distillation/knowledge_distillation.ipynb\" target=\"_parent\"><img src=\"https://colab.research.google.com/assets/colab-badge.svg\" alt=\"Open In Colab\"/></a>"
      ]
    },
    {
      "cell_type": "markdown",
      "source": [
        "## Knowledge Distillation\n",
        "A notebook for the blog post [Knowledge Distillation — How Networks Can Teach](https://dzdata.medium.com/knowledge-distillation-how-networks-can-teach-a3e287d28eea)"
      ],
      "metadata": {
        "id": "gFBudlclD4yA"
      }
    },
    {
      "cell_type": "code",
      "execution_count": null,
      "metadata": {
        "id": "UkmTn3ZT0COH",
        "colab": {
          "base_uri": "https://localhost:8080/"
        },
        "outputId": "8da2cb89-62ff-4c0e-9caf-3a6fa0724471"
      },
      "outputs": [
        {
          "output_type": "execute_result",
          "data": {
            "text/plain": [
              "<torch._C.Generator at 0x7aa6ba054170>"
            ]
          },
          "metadata": {},
          "execution_count": 1
        }
      ],
      "source": [
        "from copy import deepcopy\n",
        "import torch\n",
        "import torch.nn as nn\n",
        "import torch.optim as optim\n",
        "from torch.utils.data import DataLoader\n",
        "import torchvision.transforms.v2 as transforms\n",
        "import torchvision.datasets as datasets\n",
        "\n",
        "device = \"cuda\" if torch.cuda.is_available() else \"cpu\"\n",
        "torch.manual_seed(42)"
      ]
    },
    {
      "cell_type": "markdown",
      "source": [
        "Create CIFAR-10 datasets"
      ],
      "metadata": {
        "id": "O35_R_Md46dU"
      }
    },
    {
      "cell_type": "code",
      "source": [
        "transform = transforms.Compose([\n",
        "    transforms.ToTensor()\n",
        "])\n",
        "\n",
        "train_dataset = datasets.CIFAR10(root='data', train=True, download=True, transform=transform)\n",
        "test_dataset = datasets.CIFAR10(root='data', train=False, download=True, transform=transform)"
      ],
      "metadata": {
        "colab": {
          "base_uri": "https://localhost:8080/"
        },
        "id": "iBCvH_gT0_Na",
        "outputId": "f3aa1371-3eb7-4374-aff7-502a79d7f6eb"
      },
      "execution_count": null,
      "outputs": [
        {
          "output_type": "stream",
          "name": "stderr",
          "text": [
            "/usr/local/lib/python3.10/dist-packages/torchvision/transforms/v2/_deprecated.py:42: UserWarning: The transform `ToTensor()` is deprecated and will be removed in a future release. Instead, please use `v2.Compose([v2.ToImage(), v2.ToDtype(torch.float32, scale=True)])`.Output is equivalent up to float precision.\n",
            "  warnings.warn(\n"
          ]
        },
        {
          "output_type": "stream",
          "name": "stdout",
          "text": [
            "Downloading https://www.cs.toronto.edu/~kriz/cifar-10-python.tar.gz to data/cifar-10-python.tar.gz\n"
          ]
        },
        {
          "output_type": "stream",
          "name": "stderr",
          "text": [
            "100%|██████████| 170M/170M [00:04<00:00, 41.8MB/s]\n"
          ]
        },
        {
          "output_type": "stream",
          "name": "stdout",
          "text": [
            "Extracting data/cifar-10-python.tar.gz to data\n",
            "Files already downloaded and verified\n"
          ]
        }
      ]
    },
    {
      "cell_type": "markdown",
      "source": [
        "Create DataLoaders"
      ],
      "metadata": {
        "id": "LRGc0Yl4496V"
      }
    },
    {
      "cell_type": "code",
      "source": [
        "train_loader = DataLoader(train_dataset, batch_size=128, shuffle=True, num_workers=2)\n",
        "test_loader = DataLoader(test_dataset, batch_size=128, shuffle=False, num_workers=2)"
      ],
      "metadata": {
        "id": "1rpIcdPk4m3_"
      },
      "execution_count": null,
      "outputs": []
    },
    {
      "cell_type": "markdown",
      "source": [
        "## Define Models"
      ],
      "metadata": {
        "id": "qftnJ1dF5feV"
      }
    },
    {
      "cell_type": "markdown",
      "source": [
        "Teacher model"
      ],
      "metadata": {
        "id": "E7L4UyMo5jw1"
      }
    },
    {
      "cell_type": "code",
      "source": [
        "class TeacherModel(nn.Module):\n",
        "    def __init__(self, num_classes=10):\n",
        "        super().__init__()\n",
        "        self.features_extractor = nn.Sequential(\n",
        "            nn.Conv2d(3, 128, kernel_size=3, padding=1),\n",
        "            nn.BatchNorm2d(128),\n",
        "            nn.ReLU(),\n",
        "            nn.Conv2d(128, 64, kernel_size=3, padding=1),\n",
        "            nn.BatchNorm2d(64),\n",
        "            nn.ReLU(),\n",
        "            nn.MaxPool2d(kernel_size=2, stride=2),\n",
        "            nn.Conv2d(64, 64, kernel_size=3, padding=1),\n",
        "            nn.BatchNorm2d(64),\n",
        "            nn.ReLU(),\n",
        "            nn.Conv2d(64, 32, kernel_size=3, padding=1),\n",
        "            nn.BatchNorm2d(32),\n",
        "            nn.ReLU(),\n",
        "            nn.MaxPool2d(kernel_size=2, stride=2),\n",
        "        )\n",
        "\n",
        "        self.classifier = nn.Sequential(\n",
        "            nn.Linear(2048, 512),\n",
        "            nn.ReLU(),\n",
        "            nn.Dropout(0.1),\n",
        "            nn.Linear(512, num_classes)\n",
        "        )\n",
        "\n",
        "    def forward(self, x):\n",
        "        x = self.features_extractor(x)\n",
        "        x = torch.flatten(x, 1)\n",
        "        x = self.classifier(x)\n",
        "        return x"
      ],
      "metadata": {
        "id": "sU7jug5G5i5e"
      },
      "execution_count": null,
      "outputs": []
    },
    {
      "cell_type": "markdown",
      "source": [
        "Student model"
      ],
      "metadata": {
        "id": "diCjruK_6KD6"
      }
    },
    {
      "cell_type": "code",
      "source": [
        "class StudentModel(nn.Module):\n",
        "    def __init__(self, num_classes=10):\n",
        "        super().__init__()\n",
        "        self.features_extractor = nn.Sequential(\n",
        "            nn.Conv2d(3, 16, kernel_size=3, padding=1),\n",
        "            nn.BatchNorm2d(16),\n",
        "            nn.ReLU(),\n",
        "            nn.MaxPool2d(kernel_size=2, stride=2),\n",
        "            nn.Conv2d(16, 16, kernel_size=3, padding=1),\n",
        "            nn.BatchNorm2d(16),\n",
        "            nn.ReLU(),\n",
        "            nn.MaxPool2d(kernel_size=2, stride=2),\n",
        "        )\n",
        "\n",
        "        self.classifier = nn.Sequential(\n",
        "            nn.Linear(1024, 256),\n",
        "            nn.ReLU(),\n",
        "            nn.Dropout(0.1),\n",
        "            nn.Linear(256, num_classes)\n",
        "        )\n",
        "\n",
        "    def forward(self, x):\n",
        "        x = self.features_extractor(x)\n",
        "        x = torch.flatten(x, 1)\n",
        "        x = self.classifier(x)\n",
        "        return x"
      ],
      "metadata": {
        "id": "fYhpaS5C6L-i"
      },
      "execution_count": null,
      "outputs": []
    },
    {
      "cell_type": "markdown",
      "source": [
        "## Training"
      ],
      "metadata": {
        "id": "kMBNBsC28IVf"
      }
    },
    {
      "cell_type": "code",
      "source": [
        "def train(model, dataloader, epochs, learning_rate, device):\n",
        "    criterion = nn.CrossEntropyLoss()\n",
        "    optimizer = optim.Adam(model.parameters(), lr=learning_rate)\n",
        "\n",
        "    model.to(device)\n",
        "    model.train()\n",
        "\n",
        "    for epoch in range(epochs):\n",
        "        running_loss = 0.0\n",
        "        for images, labels in dataloader:\n",
        "            images = images.to(device)\n",
        "            labels = labels.to(device)\n",
        "\n",
        "            optimizer.zero_grad()\n",
        "            outputs = model(images)\n",
        "\n",
        "            loss = criterion(outputs, labels)\n",
        "            loss.backward()\n",
        "            optimizer.step()\n",
        "\n",
        "            running_loss += loss.item()\n",
        "\n",
        "        print(f\"Epoch {epoch+1}/{epochs}, Mean Loss: {running_loss / len(train_loader)}\")"
      ],
      "metadata": {
        "id": "4QNkNV4p8DTN"
      },
      "execution_count": null,
      "outputs": []
    },
    {
      "cell_type": "code",
      "source": [
        "def test(model, data_loader, device):\n",
        "    model.to(device)\n",
        "    model.eval()\n",
        "\n",
        "    correct = 0\n",
        "    total = 0\n",
        "\n",
        "    with torch.no_grad():\n",
        "        for images, labels in data_loader:\n",
        "            images = images.to(device)\n",
        "            labels = labels.to(device)\n",
        "\n",
        "            outputs = model(images)\n",
        "            predicted_class = torch.argmax(outputs, dim=1)\n",
        "\n",
        "            total += labels.size(0)\n",
        "            correct += (predicted_class == labels).sum().item()\n",
        "\n",
        "    accuracy = 100 * correct / total\n",
        "    print(f\"Test Accuracy: {accuracy:.2f}%\")\n",
        "    return accuracy"
      ],
      "metadata": {
        "id": "8li_8lWl89YX"
      },
      "execution_count": null,
      "outputs": []
    },
    {
      "cell_type": "markdown",
      "source": [
        "We now train the teacher and student models in a regular way (without knowledge distillation)"
      ],
      "metadata": {
        "id": "jpgNnm3q9z2g"
      }
    },
    {
      "cell_type": "code",
      "source": [
        "print('Teacher')\n",
        "teacher = TeacherModel(num_classes=10)\n",
        "train(teacher, train_loader, epochs=30, learning_rate=0.001, device=device)\n",
        "test_accuracy_teacher = test(teacher, test_loader, device)\n",
        "\n",
        "print('\\nStudent')\n",
        "student1 = StudentModel(num_classes=10)\n",
        "student2 = deepcopy(student1)\n",
        "train(student1, train_loader, epochs=30, learning_rate=0.001, device=device)\n",
        "test_accuracy_student1 = test(student1, test_loader, device)"
      ],
      "metadata": {
        "colab": {
          "base_uri": "https://localhost:8080/"
        },
        "id": "Qvp1khnA9wWG",
        "outputId": "9b1d029f-269d-486c-802f-30d5bcace37f"
      },
      "execution_count": null,
      "outputs": [
        {
          "output_type": "stream",
          "name": "stdout",
          "text": [
            "Teacher\n",
            "Epoch 1/30, Mean Loss: 1.227013551975455\n",
            "Epoch 2/30, Mean Loss: 0.8006297277520075\n",
            "Epoch 3/30, Mean Loss: 0.6526896884984068\n",
            "Epoch 4/30, Mean Loss: 0.5564498979112377\n",
            "Epoch 5/30, Mean Loss: 0.46989234474004077\n",
            "Epoch 6/30, Mean Loss: 0.4065409217725324\n",
            "Epoch 7/30, Mean Loss: 0.33846967425340274\n",
            "Epoch 8/30, Mean Loss: 0.28724067671524595\n",
            "Epoch 9/30, Mean Loss: 0.23811305247609268\n",
            "Epoch 10/30, Mean Loss: 0.19084547246661027\n",
            "Epoch 11/30, Mean Loss: 0.16286258813936996\n",
            "Epoch 12/30, Mean Loss: 0.13428122205350101\n",
            "Epoch 13/30, Mean Loss: 0.12302607766655095\n",
            "Epoch 14/30, Mean Loss: 0.10258829252094107\n",
            "Epoch 15/30, Mean Loss: 0.08792296682229585\n",
            "Epoch 16/30, Mean Loss: 0.08880708702480244\n",
            "Epoch 17/30, Mean Loss: 0.07689892817669741\n",
            "Epoch 18/30, Mean Loss: 0.07379904136900096\n",
            "Epoch 19/30, Mean Loss: 0.0673288441503711\n",
            "Epoch 20/30, Mean Loss: 0.06766464117952549\n",
            "Epoch 21/30, Mean Loss: 0.061599307644712116\n",
            "Epoch 22/30, Mean Loss: 0.05611306975078781\n",
            "Epoch 23/30, Mean Loss: 0.0592158445242859\n",
            "Epoch 24/30, Mean Loss: 0.054650859054549576\n",
            "Epoch 25/30, Mean Loss: 0.04759565632804619\n",
            "Epoch 26/30, Mean Loss: 0.05247421877677826\n",
            "Epoch 27/30, Mean Loss: 0.05036225544629366\n",
            "Epoch 28/30, Mean Loss: 0.043811044771262374\n",
            "Epoch 29/30, Mean Loss: 0.046943317155551424\n",
            "Epoch 30/30, Mean Loss: 0.042777400205383447\n",
            "Test Accuracy: 80.35%\n",
            "\n",
            "Student\n",
            "Epoch 1/30, Mean Loss: 1.3870741598441472\n",
            "Epoch 2/30, Mean Loss: 1.0735777561621898\n",
            "Epoch 3/30, Mean Loss: 0.9391225930065146\n",
            "Epoch 4/30, Mean Loss: 0.8541637845051563\n",
            "Epoch 5/30, Mean Loss: 0.7894474161250512\n",
            "Epoch 6/30, Mean Loss: 0.7283015434851732\n",
            "Epoch 7/30, Mean Loss: 0.6758137539676998\n",
            "Epoch 8/30, Mean Loss: 0.6320784498968393\n",
            "Epoch 9/30, Mean Loss: 0.5879816494481948\n",
            "Epoch 10/30, Mean Loss: 0.5522021062081427\n",
            "Epoch 11/30, Mean Loss: 0.5149986185228733\n",
            "Epoch 12/30, Mean Loss: 0.48311312599560186\n",
            "Epoch 13/30, Mean Loss: 0.45197739480706434\n",
            "Epoch 14/30, Mean Loss: 0.4243402892671278\n",
            "Epoch 15/30, Mean Loss: 0.39845223515234945\n",
            "Epoch 16/30, Mean Loss: 0.3725071229669444\n",
            "Epoch 17/30, Mean Loss: 0.3530451264756415\n",
            "Epoch 18/30, Mean Loss: 0.32945727326376056\n",
            "Epoch 19/30, Mean Loss: 0.3077831416178847\n",
            "Epoch 20/30, Mean Loss: 0.2951433053025809\n",
            "Epoch 21/30, Mean Loss: 0.2760901964838852\n",
            "Epoch 22/30, Mean Loss: 0.26515751715053987\n",
            "Epoch 23/30, Mean Loss: 0.24757981561410153\n",
            "Epoch 24/30, Mean Loss: 0.23983162090830182\n",
            "Epoch 25/30, Mean Loss: 0.229970464163729\n",
            "Epoch 26/30, Mean Loss: 0.2196098196765651\n",
            "Epoch 27/30, Mean Loss: 0.20596480413394816\n",
            "Epoch 28/30, Mean Loss: 0.20431280886883016\n",
            "Epoch 29/30, Mean Loss: 0.19368418786303163\n",
            "Epoch 30/30, Mean Loss: 0.19093702329546594\n",
            "Test Accuracy: 68.70%\n"
          ]
        }
      ]
    },
    {
      "cell_type": "markdown",
      "source": [
        "## Knowledge Distillation"
      ],
      "metadata": {
        "id": "CREgovW_uXmG"
      }
    },
    {
      "cell_type": "code",
      "source": [
        "def train_knowledge_distillation(teacher, student, data_loader, epochs, learning_rate, temperature, alpha, device):\n",
        "    criterion = nn.CrossEntropyLoss()\n",
        "    criterion_distill = nn.KLDivLoss(reduction='batchmean')\n",
        "    optimizer = optim.Adam(student.parameters(), lr=learning_rate)\n",
        "    teacher.to(device)\n",
        "    student.to(device)\n",
        "    teacher.eval()\n",
        "    student.train()\n",
        "\n",
        "    for epoch in range(epochs):\n",
        "        running_loss = 0.0\n",
        "        for images, labels in data_loader:\n",
        "            images = images.to(device)\n",
        "            labels = labels.to(device)\n",
        "\n",
        "            optimizer.zero_grad()\n",
        "\n",
        "            # Forward pass with the teacher model\n",
        "            with torch.no_grad():\n",
        "                teacher_logits = teacher(images)\n",
        "\n",
        "            # Forward pass with the student model\n",
        "            student_logits = student(images)\n",
        "\n",
        "            # Calculate the soft label loss\n",
        "            soft_targets = torch.softmax(teacher_logits / temperature, dim=1)\n",
        "            soft_probs = torch.log_softmax(student_logits / temperature, dim=1)\n",
        "\n",
        "            distillation_loss = criterion_distill(soft_probs, soft_targets)\n",
        "\n",
        "            # Calculate the true label loss\n",
        "            label_loss = criterion(student_logits, labels)\n",
        "\n",
        "            # Weighted sum of the two losses\n",
        "            loss = alpha * label_loss + (1.0 - alpha) * temperature**2 * distillation_loss\n",
        "            loss.backward()\n",
        "            optimizer.step()\n",
        "\n",
        "            running_loss += loss.item()\n",
        "\n",
        "        print(f\"Epoch {epoch+1}/{epochs}, Loss: {running_loss / len(train_loader)}\")"
      ],
      "metadata": {
        "id": "2vlkHPhTuahJ"
      },
      "execution_count": null,
      "outputs": []
    },
    {
      "cell_type": "code",
      "source": [
        "train_knowledge_distillation(teacher, student2, train_loader, epochs=30, learning_rate=0.001, temperature=2, alpha=0.8, device=device)\n",
        "test_accuracy_student_with_distillation = test(student2, test_loader, device)"
      ],
      "metadata": {
        "colab": {
          "base_uri": "https://localhost:8080/"
        },
        "id": "jw8sQrca3JlO",
        "outputId": "55900e99-b764-4621-8125-1bf093fd0dd3"
      },
      "execution_count": null,
      "outputs": [
        {
          "output_type": "stream",
          "name": "stdout",
          "text": [
            "Epoch 1/30, Loss: 2.1964448251382773\n",
            "Epoch 2/30, Loss: 1.6716872932356033\n",
            "Epoch 3/30, Loss: 1.4725313601286516\n",
            "Epoch 4/30, Loss: 1.3435371722406744\n",
            "Epoch 5/30, Loss: 1.2465182867501399\n",
            "Epoch 6/30, Loss: 1.1615051953384028\n",
            "Epoch 7/30, Loss: 1.0832165539112237\n",
            "Epoch 8/30, Loss: 1.0170706502921747\n",
            "Epoch 9/30, Loss: 0.948769456590228\n",
            "Epoch 10/30, Loss: 0.8996146485933563\n",
            "Epoch 11/30, Loss: 0.8429149076761797\n",
            "Epoch 12/30, Loss: 0.7944906306693621\n",
            "Epoch 13/30, Loss: 0.7432063121320037\n",
            "Epoch 14/30, Loss: 0.708498257657756\n",
            "Epoch 15/30, Loss: 0.6670365183402205\n",
            "Epoch 16/30, Loss: 0.6346628576745768\n",
            "Epoch 17/30, Loss: 0.5962860049189204\n",
            "Epoch 18/30, Loss: 0.5657400330314246\n",
            "Epoch 19/30, Loss: 0.5407315236528206\n",
            "Epoch 20/30, Loss: 0.5148001837608455\n",
            "Epoch 21/30, Loss: 0.4852442342759398\n",
            "Epoch 22/30, Loss: 0.46830802027831603\n",
            "Epoch 23/30, Loss: 0.43950596619445037\n",
            "Epoch 24/30, Loss: 0.4295593956318658\n",
            "Epoch 25/30, Loss: 0.4140379125504847\n",
            "Epoch 26/30, Loss: 0.4031776143690509\n",
            "Epoch 27/30, Loss: 0.3920945816332727\n",
            "Epoch 28/30, Loss: 0.37464358019249516\n",
            "Epoch 29/30, Loss: 0.3478064461970878\n",
            "Epoch 30/30, Loss: 0.3442998861946413\n",
            "Test Accuracy: 71.08%\n"
          ]
        }
      ]
    }
  ]
}